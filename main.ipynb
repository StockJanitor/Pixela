{
 "cells": [
  {
   "cell_type": "code",
   "execution_count": 7,
   "metadata": {},
   "outputs": [],
   "source": [
    "from pixela_module import Pixela\n",
    "from datetime import datetime\n",
    "\n",
    "# today's date and convert to str YYYYMMDD\n",
    "today = datetime.now().strftime(\"%Y%m%d\")\n",
    "\n",
    "# path for token\n",
    "path_pixela = r\"C:\\Users\\Gumo\\Desktop\\Git\\Notebook\\keys\\pixela.txt\"\n",
    "# load token\n",
    "with open(path_pixela,\"r\") as newsfile:\n",
    "    TOKEN = newsfile.readline()\n",
    "\n",
    "#initialize object\n",
    "a = Pixela(\"stockjanitor\",TOKEN)\n"
   ]
  },
  {
   "cell_type": "code",
   "execution_count": null,
   "metadata": {},
   "outputs": [],
   "source": [
    "'''\n",
    "My graphs\n",
    "donut\n",
    "steak - ib pro\n",
    "cds - c data structure - udemy\n",
    "web - web development - angela\n",
    "\n",
    "\n",
    "'''"
   ]
  },
  {
   "cell_type": "code",
   "execution_count": 9,
   "metadata": {},
   "outputs": [
    {
     "name": "stdout",
     "output_type": "stream",
     "text": [
      "{\"message\":\"Success.\",\"isSuccess\":true}\n",
      "https://pixe.la/v1/users/stockjanitor/graphs/donut.html\n"
     ]
    }
   ],
   "source": [
    "\n",
    "\n",
    "# Create graph\n",
    "# a.create_graph(\"cds\",\"C++ Data Structure\",\"Hrs\",\"sora\")\n",
    "\n",
    "# Delete graph\n",
    "# a.delete_graph(\"data-structure\")\n",
    "\n",
    "# add pixel: graph_id, date, amount\n",
    "a.add_pixel(\"donut\",today,170)"
   ]
  },
  {
   "cell_type": "code",
   "execution_count": null,
   "metadata": {},
   "outputs": [],
   "source": []
  }
 ],
 "metadata": {
  "kernelspec": {
   "display_name": "Python 3.10.5 ('desktop_env')",
   "language": "python",
   "name": "python3"
  },
  "language_info": {
   "codemirror_mode": {
    "name": "ipython",
    "version": 3
   },
   "file_extension": ".py",
   "mimetype": "text/x-python",
   "name": "python",
   "nbconvert_exporter": "python",
   "pygments_lexer": "ipython3",
   "version": "3.10.5"
  },
  "orig_nbformat": 4,
  "vscode": {
   "interpreter": {
    "hash": "b4dc6631ffef5a733ac58430eb0e8cf8f73f165587c4c3dfb32dbf0eaaadea6b"
   }
  }
 },
 "nbformat": 4,
 "nbformat_minor": 2
}
